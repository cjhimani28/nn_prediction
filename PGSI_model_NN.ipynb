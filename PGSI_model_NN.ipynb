{
 "cells": [
  {
   "cell_type": "markdown",
   "metadata": {},
   "source": [
    "#### PGSI prediction with NN"
   ]
  },
  {
   "cell_type": "code",
   "execution_count": 1,
   "metadata": {},
   "outputs": [
    {
     "name": "stderr",
     "output_type": "stream",
     "text": [
      "/opt/anaconda3/lib/python3.6/site-packages/h5py/__init__.py:36: FutureWarning: Conversion of the second argument of issubdtype from `float` to `np.floating` is deprecated. In future, it will be treated as `np.float64 == np.dtype(float).type`.\n",
      "  from ._conv import register_converters as _register_converters\n"
     ]
    }
   ],
   "source": [
    "import os\n",
    "import findspark\n",
    "import math\n",
    "import pandas as pd\n",
    "import numpy as np\n",
    "import matplotlib.pyplot as plt\n",
    "import seaborn as sns\n",
    "import time as time\n",
    "import datetime as dt\n",
    "import statistics\n",
    "import pickle\n",
    "\n",
    "os.environ['JAVA_HOME'] = '/usr/lib/jvm/java-1.8.0'\n",
    "os.environ['PYSPARK_SUBMIT_ARGS']=\"--master yarn --deploy-mode client pyspark-shell\"\n",
    "\n",
    "findspark.init('/opt/mapr/spark/spark-2.3.1')\n",
    "import pyspark\n",
    "\n",
    "from pyspark.sql import SparkSession, HiveContext, SQLContext, Row\n",
    "from pyspark.sql.functions import udf\n",
    "import pyspark.sql.functions as F\n",
    "from pyspark.sql.types import StringType, IntegerType, FloatType, DoubleType, StructType, StructField\n",
    "from pyspark.sql.window import Window\n",
    "\n",
    "from sklearn.model_selection import train_test_split\n",
    "from sklearn.metrics import classification_report, accuracy_score, mean_squared_error, confusion_matrix\n",
    "from sklearn.model_selection import RandomizedSearchCV, GridSearchCV\n",
    "from sklearn.preprocessing import MinMaxScaler, StandardScaler\n",
    "from sklearn.svm import SVR\n",
    "\n",
    "import tensorflow as tf\n",
    "from tensorflow import keras\n",
    "from tensorflow.keras import layers\n",
    "from tensorflow.keras.models import Sequential, load_model\n",
    "from tensorflow.keras.layers import Dense \n",
    "from tensorflow.keras import backend as K\n",
    "\n",
    "spark = (SparkSession\\\n",
    "                .builder\\\n",
    "                .appName('PGSI_NN')\\\n",
    "                .enableHiveSupport()\\\n",
    "                .getOrCreate())\n",
    "\n",
    "pd.set_option('display.max_rows', 50000000)\n",
    "pd.set_option('display.max_columns', 500)"
   ]
  },
  {
   "cell_type": "markdown",
   "metadata": {},
   "source": [
    "#### Prepare data - Helper methods"
   ]
  },
  {
   "cell_type": "code",
   "execution_count": 2,
   "metadata": {},
   "outputs": [],
   "source": [
    "def clean_agg_column(x, agg_type):\n",
    "    ''' Returns a column name without the agg prefix\n",
    "        e.g sum(foo) ==> foo\n",
    "    \n",
    "        Arguments: input string and prefix type eg. sum, mean etc\n",
    "        Returns: modified string\n",
    "    '''\n",
    "    \n",
    "    output = str.replace(x, agg_type + \"(\", \"\")\n",
    "    output = str.replace(output, \")\", \"\")\n",
    "\n",
    "    return output\n",
    "\n",
    "def get_train_test(main_data, size):\n",
    "    '''\n",
    "    Split training and testing, size is testing dataset size\n",
    "    '''\n",
    "    # split X and y\n",
    "    X = main_data.drop(['account_no', 'pgsi_score'], axis=1)\n",
    "    y = main_data[['pgsi_score']]\n",
    "    \n",
    "    # scale X for nn \n",
    "#     scaler_X = MinMaxScaler()\n",
    "#     scaled_X = scaler_X.fit_transform(X)\n",
    "    \n",
    "    scaler_X = StandardScaler()\n",
    "    scaled_X = scaler_X.fit_transform(X)\n",
    "     \n",
    "    train_X, test_X, train_Y, test_Y = train_test_split(X, y, test_size=size, random_state=42)\n",
    "    \n",
    "    return train_X, test_X, train_Y, test_Y, scaler_X"
   ]
  },
  {
   "cell_type": "markdown",
   "metadata": {},
   "source": [
    "#### Prepare data"
   ]
  },
  {
   "cell_type": "code",
   "execution_count": 3,
   "metadata": {},
   "outputs": [],
   "source": [
    "# this code does not detail data preperation due to the sensitive nature of the data\n",
    "main_data = spark.sql('SELECT * FROM analytics.pgsi_training_dat_1').toPandas() \n",
    "\n",
    "# modify column names\n",
    "col_names = [clean_agg_column(col, 'avg') for col in main_data.columns]\n",
    "main_data.columns = col_names\n",
    "\n",
    "# testing dataset size is 0.3\n",
    "train_X, test_X, train_Y, test_Y, scaler_X = get_train_test(main_data, 0.3)"
   ]
  },
  {
   "cell_type": "markdown",
   "metadata": {},
   "source": [
    "#### Model - Helper methods "
   ]
  },
  {
   "cell_type": "code",
   "execution_count": 4,
   "metadata": {},
   "outputs": [],
   "source": [
    "def nn_loss(y_actual, y_prediction):\n",
    "    '''\n",
    "    Defines rmse as loss function for nn\n",
    "    '''\n",
    "    return K.sqrt(K.mean(K.square(y_actual - y_prediction)))\n",
    "\n",
    "def rmse(model, test_X, test_Y):\n",
    "    '''\n",
    "    Caluclates rmse for recoded value\n",
    "    '''\n",
    "    y_actual, y_prediction, _ = get_actul_prediction(model, test_X, test_Y)\n",
    "    return np.sqrt(mean_squared_error(y_actual, y_prediction))\n",
    "\n",
    "def recode(x):\n",
    "    '''\n",
    "    Recodes pgsi_score 0-27 to 1-4\n",
    "    '''\n",
    "    output = 0\n",
    "    \n",
    "    if x < 1: output = 0\n",
    "    elif x < 3: output = 1\n",
    "    elif x < 8: output = 2\n",
    "    else: output = 3\n",
    "        \n",
    "    return output\n",
    "\n",
    "def get_actul_prediction(model, test_X, test_Y):\n",
    "    '''\n",
    "    Predict recode scores for test set\n",
    "    '''\n",
    "    predicted_y = model.predict(test_X)\n",
    "    \n",
    "    # recode\n",
    "    predicted_df = pd.DataFrame(predicted_y, columns=['pgsi_prediction'])\n",
    "    predicted_df['recode_prediction'] = predicted_df['pgsi_prediction'].apply(recode)\n",
    "    \n",
    "    actual_df = pd.DataFrame(test_Y, columns=['pgsi_score'])\n",
    "    actual_df['recode_actual'] = actual_df['pgsi_score'].apply(recode)\n",
    "    \n",
    "    return actual_df.recode_actual, predicted_df.recode_prediction, predicted_df.pgsi_prediction"
   ]
  },
  {
   "cell_type": "code",
   "execution_count": 9,
   "metadata": {},
   "outputs": [],
   "source": [
    "def get_model():\n",
    "    '''\n",
    "    Defines nn with 2 hidden layers \n",
    "    '''\n",
    "    nn_model = Sequential()\n",
    "    nn_model.add(Dense(8, input_dim=len(train_X.columns), kernel_initializer='normal', activation='sigmoid'))\n",
    "    nn_model.add(Dense(4, activation='sigmoid'))\n",
    "    nn_model.add(Dense(1, activation='linear'))\n",
    "    nn_model.compile(loss=nn_loss, optimizer='adam')\n",
    "    \n",
    "    history = nn_model.fit(train_X, train_Y, epochs=1000, batch_size=150, validation_split=0.3, verbose=0)\n",
    "    \n",
    "    return nn_model, history\n",
    "\n",
    "def model_pipeline(iterations):\n",
    "    '''\n",
    "    Finds best model from iterations\n",
    "    '''\n",
    "    max_acc = 0\n",
    "    for it in range(iterations):\n",
    "        nn_model, history = get_model()\n",
    "        \n",
    "        # testing accuracy\n",
    "        y_actual_re, y_prediction_re, y_prediction = get_actul_prediction(nn_model, test_X, test_Y)\n",
    "        y_actual_re.reset_index(drop=True, inplace=True)\n",
    "        \n",
    "        result = pd.concat([y_actual_re, y_prediction_re, y_prediction], axis=1)\n",
    "        \n",
    "        result2 = result[result.recode_actual > 0]\n",
    "        acc = 1 - np.mean(np.abs((result2.recode_prediction - result2.recode_actual)/result2.recode_actual)) \n",
    "        \n",
    "        # save stats of best model\n",
    "        if acc > max_acc:\n",
    "            max_acc = acc\n",
    "            nn_model.save('nn_model_best') \n",
    "            \n",
    "            nn_model_best = nn_model\n",
    "            history_best = history\n",
    "            result_best = result\n",
    "            \n",
    "            print(it)\n",
    "            print('Training rmse: ', rmse(nn_model_best, train_X, train_Y))\n",
    "            print('Testing rmse: ', rmse(nn_model_best, test_X, test_Y))\n",
    "            print('Testing accuracy: ', max_acc)    \n",
    "\n",
    "    return nn_model_best, history_best, result_best"
   ]
  },
  {
   "cell_type": "markdown",
   "metadata": {},
   "source": [
    "#### Best model "
   ]
  },
  {
   "cell_type": "code",
   "execution_count": 10,
   "metadata": {},
   "outputs": [
    {
     "name": "stdout",
     "output_type": "stream",
     "text": [
      "0\n",
      "Training rmse:  0.948351017982962\n",
      "Testing rmse:  0.980910227263219\n",
      "Testing accuracy:  0.6252525252525256\n",
      "1\n",
      "Training rmse:  0.935925625371442\n",
      "Testing rmse:  0.9825152082557204\n",
      "Testing accuracy:  0.6314574314574319\n",
      "4\n",
      "Training rmse:  0.9307397337863184\n",
      "Testing rmse:  0.976617382911569\n",
      "Testing accuracy:  0.642568542568543\n",
      "5\n",
      "Training rmse:  0.9289238907343956\n",
      "Testing rmse:  0.967160358815365\n",
      "Testing accuracy:  0.6505050505050507\n",
      "17\n",
      "Training rmse:  0.9284390661237428\n",
      "Testing rmse:  0.958706236059213\n",
      "Testing accuracy:  0.6920634920634923\n",
      "76\n",
      "Training rmse:  0.9335171663472106\n",
      "Testing rmse:  0.9600748395198113\n",
      "Testing accuracy:  0.6936507936507939\n"
     ]
    }
   ],
   "source": [
    "nn_model_best, history_best, result_best = model_pipeline(100)"
   ]
  },
  {
   "cell_type": "code",
   "execution_count": 11,
   "metadata": {
    "scrolled": true
   },
   "outputs": [
    {
     "name": "stdout",
     "output_type": "stream",
     "text": [
      "_________________________________________________________________\n",
      "Layer (type)                 Output Shape              Param #   \n",
      "=================================================================\n",
      "dense_231 (Dense)            (None, 8)                 304       \n",
      "_________________________________________________________________\n",
      "dense_232 (Dense)            (None, 4)                 36        \n",
      "_________________________________________________________________\n",
      "dense_233 (Dense)            (None, 1)                 5         \n",
      "=================================================================\n",
      "Total params: 345\n",
      "Trainable params: 345\n",
      "Non-trainable params: 0\n",
      "_________________________________________________________________\n"
     ]
    }
   ],
   "source": [
    "nn_model_best.summary()"
   ]
  },
  {
   "cell_type": "code",
   "execution_count": 13,
   "metadata": {},
   "outputs": [
    {
     "data": {
      "image/png": "[encoded data removed]",
      "text/plain": [
       "<Figure size 432x288 with 1 Axes>"
      ]
     },
     "metadata": {},
     "output_type": "display_data"
    }
   ],
   "source": [
    "# plot sample train and validation loss - rmse is for pgsi scores\n",
    "plt.plot(history_best.history['loss'])\n",
    "plt.plot(history_best.history['val_loss'])\n",
    "plt.ylabel('loss')\n",
    "plt.xlabel('epoch')\n",
    "plt.legend(['train', 'validation'])\n",
    "plt.show()"
   ]
  },
  {
   "cell_type": "markdown",
   "metadata": {},
   "source": [
    "#### Evaluation"
   ]
  },
  {
   "cell_type": "code",
   "execution_count": 14,
   "metadata": {},
   "outputs": [
    {
     "data": {
      "image/png": "[encoded data removed]",
      "text/plain": [
       "<Figure size 576x360 with 1 Axes>"
      ]
     },
     "metadata": {},
     "output_type": "display_data"
    }
   ],
   "source": [
    "fig, ax = plt.subplots(figsize =(8, 5)) \n",
    "pl = sns.boxplot(y='pgsi_prediction', x='recode_actual', data=result_best, width=0.5, palette=\"colorblind\")\n",
    "pl.set_xlabel('Actual Category')\n",
    "pl.set_ylabel('Predicted Score')\n",
    "plt.show();"
   ]
  },
  {
   "cell_type": "code",
   "execution_count": null,
   "metadata": {},
   "outputs": [],
   "source": []
  }
 ],
 "metadata": {
  "kernelspec": {
   "display_name": "Python 3",
   "language": "python",
   "name": "python3"
  },
  "language_info": {
   "codemirror_mode": {
    "name": "ipython",
    "version": 3
   },
   "file_extension": ".py",
   "mimetype": "text/x-python",
   "name": "python",
   "nbconvert_exporter": "python",
   "pygments_lexer": "ipython3",
   "version": "3.6.8"
  }
 },
 "nbformat": 4,
 "nbformat_minor": 2
}
